{
  "cells": [
    {
      "cell_type": "markdown",
      "id": "518efe1c-da13-465c-b62a-0e38ae6f110c",
      "metadata": {
        "tags": [],
        "id": "518efe1c-da13-465c-b62a-0e38ae6f110c"
      },
      "source": [
        "##Gaussian Mixture Models\n",
        "\n",
        "Resources:\n",
        "- https://youtu.be/qMTuMa86NzU\n",
        "- https://youtu.be/ZBLyXgjBx3Q\n",
        "\n",
        "Reference: https://scikit-learn.org/stable/modules/mixture.html"
      ]
    },
    {
      "cell_type": "code",
      "execution_count": 37,
      "id": "a1e7d9be-241c-4e93-aefe-36d5ffddb4df",
      "metadata": {
        "execution": {
          "iopub.execute_input": "2023-03-08T11:21:25.323288Z",
          "iopub.status.busy": "2023-03-08T11:21:25.322925Z",
          "iopub.status.idle": "2023-03-08T11:21:26.039733Z",
          "shell.execute_reply": "2023-03-08T11:21:26.039124Z",
          "shell.execute_reply.started": "2023-03-08T11:21:25.323265Z"
        },
        "tags": [],
        "id": "a1e7d9be-241c-4e93-aefe-36d5ffddb4df"
      },
      "outputs": [],
      "source": [
        "import os\n",
        "import numpy as np\n",
        "import matplotlib.pyplot as plt\n",
        "%matplotlib inline\n",
        "\n",
        "import cv2\n",
        "from scipy.stats import multivariate_normal\n",
        "import imageio"
      ]
    },
    {
      "cell_type": "markdown",
      "id": "71a78b0c-256b-4b46-b925-d69e455e3d76",
      "metadata": {
        "id": "71a78b0c-256b-4b46-b925-d69e455e3d76"
      },
      "source": [
        "### Part 1: Gaussian Mixture Models\n",
        "\n",
        "We'll attempt to solve the task of background subtraction using Gaussian Mixture Models. Before that, you will need to implement the Gaussian Mixture Model algorithm from scratch.\n",
        "\n",
        "Some details:\n",
        "- Try to implement GMMs using Multi-variate Gaussian Distributions, the following tasks in the assignment are possible to implement using the Univariate version too but it might be bit inaccurate as explained below.\n",
        "    - To clarify further, we could treat each pixel in our RGB image as our data point with [R, G, B] channels as the dimensions to the Multi-variate data point, and we would easily get predictions for each pixel location using Multi-variate approach.\n",
        "    - Or, we could treat every single value in the given RGB image as a data point independent of what channel the belong to and consider them as Uni-variate data point, and get prediction using the Uni-variate approach.\n",
        "    But this affects our prediction, since we can't simply make per pixel predtions anymore, because for every pixel location we would now have 3 different predictions.\n",
        "    - To get around this, you could convert your image to Grayscale and then we would only have one channel/value corresponding to each pixel location, which would now allow us to use the Uni-variate approach for prediction, but this also means loss in information which would affect our quality of predictions.\n",
        "    - Try to have a class based implementation of GMM, this would really help you in Background Subtraction task. You can get some general ideas on how to structure your class by looking at `sklearn.mixture.GaussianMixture` documentation and source code.\n",
        "- The following code cell has a rough template to get you started with the implementation. You are free to change the structure of the code, this is just a suggestion to help you get started.\n",
        "\n",
        "\n",
        "TLDR: You may implement the univariate version of GMMs, but it might not be as accurate as the multivariate version and it is recommended to try and implement the multivariate version."
      ]
    },
    {
      "cell_type": "code",
      "execution_count": 11,
      "id": "4c8b4171-3b73-4e4b-b123-29b20235002e",
      "metadata": {
        "tags": [],
        "id": "4c8b4171-3b73-4e4b-b123-29b20235002e"
      },
      "outputs": [],
      "source": [
        "class GMM(object):\n",
        "\n",
        "    def __init__(self, n_components=1, tol=1e-3, max_iter=100):\n",
        "        \"\"\"\n",
        "        n_components: The number of mixture components.\n",
        "        tol: The convergence threshold\n",
        "        \"\"\"\n",
        "        self.n_components = n_components\n",
        "        self.tol = tol\n",
        "        self.max_iter = max_iter\n",
        "        self.mixing_coeff = None\n",
        "        self.means = None\n",
        "        self.covars = None\n",
        "\n",
        "    def initialize_params(self, X):\n",
        "        \"\"\"\n",
        "        X : A collection of `N` training data points, each with dimension `d`.\n",
        "        \"\"\"\n",
        "        n_samples, n_features = X.shape\n",
        "        self.mixing_coeff = np.ones(self.n_components)/ self.n_components\n",
        "        random_indices = np.random.choice(n_samples, self.n_components, replace=False)\n",
        "        self.means = X[random_indices]\n",
        "        covars = []\n",
        "        for i in range(self.n_components):\n",
        "            covariance = np.dot(X.T, X)\n",
        "            covariance += 1e-6 * np.eye(n_features)\n",
        "            covars.append(covariance)\n",
        "        self.covars = covars\n",
        "\n",
        "    def E_step(self, X):\n",
        "        \"\"\"\n",
        "        Find the Expectation of the log-likelihood evaluated using the current estimate for the parameters.\n",
        "        \"\"\"\n",
        "        gauss = np.ones((X.shape[0], self.n_components))\n",
        "        sum_of_gauss = 0\n",
        "        for k in range(self.n_components):\n",
        "            for i in range(X.shape[0]):\n",
        "                distribution = multivariate_normal(self.means[k], self.covars[k])\n",
        "                gauss[i][k] = self.mixing_coeff[k] * distribution.pdf(X[i])\n",
        "        sum_of_gauss = np.sum(gauss, axis=1, keepdims=True)\n",
        "        gauss /= sum_of_gauss\n",
        "        return gauss\n",
        "\n",
        "    def M_step(self, X, gauss):\n",
        "        \"\"\"\n",
        "        Updates parameters maximizing the expected log-likelihood found on the E step.\n",
        "        \"\"\"\n",
        "        total_weights = np.sum(gauss, axis=0)\n",
        "        self.mixing_coeff = total_weights / X.shape[0]\n",
        "\n",
        "        for k in range(self.n_components):\n",
        "            # Update Covariances\n",
        "            covars_k = np.zeros_like(self.covars[k])\n",
        "            means_k = np.zeros_like(self.means[k])\n",
        "            for n in range(X.shape[0]):\n",
        "                S_mat = X[n] - self.means[k]\n",
        "                covars_k += gauss[n, k] * np.outer(S_mat, S_mat)\n",
        "                means_k += gauss[n, k] * X[n]\n",
        "            covars_k += 1e-6 * np.eye(covars_k.shape[0])\n",
        "            self.covars[k] = covars_k / total_weights[k]\n",
        "            self.means[k] = means_k / total_weights[k]\n",
        "\n",
        "    def fit(self, X, y=None):\n",
        "        \"\"\"\n",
        "        Fit the parameters of the GMM on some training data.\n",
        "        \"\"\"\n",
        "        self.initialize_params(X)\n",
        "        for i in range(self.max_iter):\n",
        "            gauss = self.E_step(X)\n",
        "            self.M_step(X , gauss)\n",
        "\n",
        "    def predict(self, X):\n",
        "        \"\"\"\n",
        "        Predict the labels for the data samples in X using trained model.\n",
        "        \"\"\"\n",
        "        gaussians = self.E_step(X)\n",
        "        return np.argmax(gaussians, axis=1)"
      ]
    },
    {
      "cell_type": "markdown",
      "id": "535a6266-8fe6-4b8a-8f40-5e0e3c8721c8",
      "metadata": {
        "jp-MarkdownHeadingCollapsed": true,
        "tags": [],
        "id": "535a6266-8fe6-4b8a-8f40-5e0e3c8721c8"
      },
      "source": [
        "### Part 2: Background Subtraction\n",
        "\n",
        "![traffic](./videos/traffic.gif)\n",
        "\n",
        "In this question, you are required to extract the background image from a given set of training frames, and use the extracted background to display foreground objects in the test frames by subtracting that background image and then thresholding it accordingly.\n",
        "\n",
        "In this question, we are going to try different baselines to extract background from low resolution camera footage:\n",
        "\n",
        "1. Frame Averaging:\n",
        "    - Just take the average of every training frame, which gives us an approximate background image.\n",
        "    \n",
        "2. GMM Per Pixel:\n",
        "    - We will maintain per pixel GMMs of 2 components, and then fit these GMMs considering every training from for its corresponding pixel.\n",
        "    - And then use these GMMs to predict the pixel labels for every subsequent frame.\n",
        "    - Most of the time, the Gaussian with the higher weight corresponds to the background.\n",
        "    - We can implement this in a simpler way but with worse prediction results, you can extract a mean background image similar to the first baseline above.\n",
        "    - To extract the Mean background image, we can assign values of the Means corresponding to the highest weighted Gaussian for each pixel.\n",
        "    - This method is much simpler to implement but, this could give worse results."
      ]
    },
    {
      "cell_type": "markdown",
      "id": "7a05a728-7e46-4875-8202-a2f4c15474ef",
      "metadata": {
        "jp-MarkdownHeadingCollapsed": true,
        "tags": [],
        "id": "7a05a728-7e46-4875-8202-a2f4c15474ef"
      },
      "source": [
        "#### Extracting Frames from videos"
      ]
    },
    {
      "cell_type": "code",
      "execution_count": 12,
      "id": "4bce85da-089c-49cb-a145-262f888e16a6",
      "metadata": {
        "execution": {
          "iopub.execute_input": "2023-03-08T04:08:37.130369Z",
          "iopub.status.busy": "2023-03-08T04:08:37.129961Z",
          "iopub.status.idle": "2023-03-08T04:08:37.135022Z",
          "shell.execute_reply": "2023-03-08T04:08:37.133398Z",
          "shell.execute_reply.started": "2023-03-08T04:08:37.130341Z"
        },
        "id": "4bce85da-089c-49cb-a145-262f888e16a6"
      },
      "outputs": [],
      "source": [
        "source_folder = 'videos'\n",
        "video = 'traffic.gif'\n",
        "\n",
        "source_path = f'./{source_folder}/{video}'"
      ]
    },
    {
      "cell_type": "code",
      "execution_count": 13,
      "id": "26ff69e5-55c6-4351-ba5c-4f09f1affe4c",
      "metadata": {
        "execution": {
          "iopub.execute_input": "2023-03-08T04:08:37.136732Z",
          "iopub.status.busy": "2023-03-08T04:08:37.136360Z",
          "iopub.status.idle": "2023-03-08T04:08:37.141945Z",
          "shell.execute_reply": "2023-03-08T04:08:37.140639Z",
          "shell.execute_reply.started": "2023-03-08T04:08:37.136693Z"
        },
        "tags": [],
        "id": "26ff69e5-55c6-4351-ba5c-4f09f1affe4c"
      },
      "outputs": [],
      "source": [
        "data_folder = 'frames'\n",
        "\n",
        "frames_path = f\"./{data_folder}/{video.rsplit('.', 1)[0]}\""
      ]
    },
    {
      "cell_type": "code",
      "execution_count": 14,
      "id": "ec1404b3-0318-4d1d-a4f8-cd1ad32c312c",
      "metadata": {
        "execution": {
          "iopub.execute_input": "2023-03-08T04:08:37.143793Z",
          "iopub.status.busy": "2023-03-08T04:08:37.143330Z",
          "iopub.status.idle": "2023-03-08T04:08:37.276702Z",
          "shell.execute_reply": "2023-03-08T04:08:37.275738Z",
          "shell.execute_reply.started": "2023-03-08T04:08:37.143758Z"
        },
        "id": "ec1404b3-0318-4d1d-a4f8-cd1ad32c312c"
      },
      "outputs": [],
      "source": [
        "%%capture\n",
        "\n",
        "!mkdir -p {frames_path} > /dev/null ;"
      ]
    },
    {
      "cell_type": "code",
      "execution_count": 15,
      "id": "dc493fa5-d2fb-4354-8eec-aa3daa3e3804",
      "metadata": {
        "execution": {
          "iopub.execute_input": "2023-03-08T04:08:37.278274Z",
          "iopub.status.busy": "2023-03-08T04:08:37.277897Z",
          "iopub.status.idle": "2023-03-08T04:08:37.518249Z",
          "shell.execute_reply": "2023-03-08T04:08:37.517372Z",
          "shell.execute_reply.started": "2023-03-08T04:08:37.278239Z"
        },
        "id": "dc493fa5-d2fb-4354-8eec-aa3daa3e3804"
      },
      "outputs": [],
      "source": [
        "%%capture\n",
        "\n",
        "!ffmpeg -i {source_path} {frames_path}/'frame_%04d.png' > /dev/null ;"
      ]
    },
    {
      "cell_type": "markdown",
      "id": "e121347b-6089-4cf0-bc6e-1a341a48c397",
      "metadata": {
        "jp-MarkdownHeadingCollapsed": true,
        "tags": [],
        "id": "e121347b-6089-4cf0-bc6e-1a341a48c397"
      },
      "source": [
        "#### Loading Frames"
      ]
    },
    {
      "cell_type": "code",
      "execution_count": 16,
      "id": "9989bdab-245a-4c67-bc3e-c2067e9a72ab",
      "metadata": {
        "execution": {
          "iopub.execute_input": "2023-03-08T04:08:37.519762Z",
          "iopub.status.busy": "2023-03-08T04:08:37.519393Z",
          "iopub.status.idle": "2023-03-08T04:08:37.581165Z",
          "shell.execute_reply": "2023-03-08T04:08:37.580447Z",
          "shell.execute_reply.started": "2023-03-08T04:08:37.519727Z"
        },
        "id": "9989bdab-245a-4c67-bc3e-c2067e9a72ab"
      },
      "outputs": [],
      "source": [
        "import glob\n",
        "\n",
        "frames = []\n",
        "\n",
        "for file_path in sorted(glob.glob(f'{frames_path}/*.png', recursive = False)):\n",
        "    img = cv2.imread(file_path)\n",
        "    img = cv2.cvtColor(img, cv2.COLOR_BGR2RGB)\n",
        "\n",
        "    img = np.asarray(img, dtype=np.float64)\n",
        "    img /= 255.0\n",
        "\n",
        "    frames.append(img)\n",
        "\n",
        "frames = np.asarray(frames, dtype=np.float64)"
      ]
    },
    {
      "cell_type": "markdown",
      "id": "d3e589fc-902a-419d-8c9a-13311fcab7ea",
      "metadata": {
        "jp-MarkdownHeadingCollapsed": true,
        "tags": [],
        "id": "d3e589fc-902a-419d-8c9a-13311fcab7ea"
      },
      "source": [
        "#### Splitting the data"
      ]
    },
    {
      "cell_type": "code",
      "execution_count": 17,
      "id": "f859993a-2b29-4baf-a168-117151ed240b",
      "metadata": {
        "execution": {
          "iopub.execute_input": "2023-03-08T04:08:37.582241Z",
          "iopub.status.busy": "2023-03-08T04:08:37.581978Z",
          "iopub.status.idle": "2023-03-08T04:08:37.596804Z",
          "shell.execute_reply": "2023-03-08T04:08:37.595584Z",
          "shell.execute_reply.started": "2023-03-08T04:08:37.582220Z"
        },
        "colab": {
          "base_uri": "https://localhost:8080/"
        },
        "id": "f859993a-2b29-4baf-a168-117151ed240b",
        "outputId": "68421d69-3031-4aae-f811-6881ecb1a455"
      },
      "outputs": [
        {
          "output_type": "stream",
          "name": "stdout",
          "text": [
            "frame: (80, 120, 160, 3)\n",
            "train_frames: (48, 120, 160, 3)\n",
            "test_frames: (32, 120, 160, 3)\n"
          ]
        }
      ],
      "source": [
        "from sklearn.model_selection import train_test_split\n",
        "\n",
        "print(f'frame: {frames.shape}')\n",
        "\n",
        "train_frames, test_frames = train_test_split(frames, train_size=0.6, shuffle=False) # Do Not Shuffle!\n",
        "\n",
        "print(f'train_frames: {train_frames.shape}')\n",
        "print(f'test_frames: {test_frames.shape}')"
      ]
    },
    {
      "cell_type": "markdown",
      "id": "7ec3f0d8",
      "metadata": {
        "id": "7ec3f0d8"
      },
      "source": [
        "Note: You may use helper libraries like `imageio` for working with GIFs.\n",
        "\n",
        "```python\n",
        "import imageio\n",
        "\n",
        "def make_gif(img_list, gif_path, fps=10):\n",
        "    imageio.mimsave(gif_path, img_list, fps=fps)\n",
        "    return\n",
        "```"
      ]
    },
    {
      "cell_type": "markdown",
      "id": "7cebb520-1657-432d-959d-eec893cb9b44",
      "metadata": {
        "jp-MarkdownHeadingCollapsed": true,
        "tags": [],
        "id": "7cebb520-1657-432d-959d-eec893cb9b44"
      },
      "source": [
        "#### Frame Averaging\n",
        "\n",
        "Extract Background Image from the training data and display it."
      ]
    },
    {
      "cell_type": "code",
      "execution_count": 18,
      "id": "2d08a0a6-770f-462a-8418-a63b6ffec5a0",
      "metadata": {
        "colab": {
          "base_uri": "https://localhost:8080/",
          "height": 428
        },
        "id": "2d08a0a6-770f-462a-8418-a63b6ffec5a0",
        "outputId": "058789b2-30cc-45a9-dd13-e9704ec70522"
      },
      "outputs": [
        {
          "output_type": "display_data",
          "data": {
            "text/plain": [
              "<Figure size 640x480 with 1 Axes>"
            ],
            "image/png": "[encoded data removed]"
          },
          "metadata": {}
        }
      ],
      "source": [
        "background_image = np.mean(train_frames, axis=0)\n",
        "\n",
        "# Displaying the background image\n",
        "plt.imshow(background_image)\n",
        "plt.title(\"Background Image\")\n",
        "plt.axis('off')\n",
        "plt.show()"
      ]
    },
    {
      "cell_type": "markdown",
      "source": [],
      "metadata": {
        "id": "dFaZmJ-JzTp_"
      },
      "id": "dFaZmJ-JzTp_"
    },
    {
      "cell_type": "markdown",
      "id": "17b08135-acc3-4a7f-8d9e-11d9d2e15507",
      "metadata": {
        "jp-MarkdownHeadingCollapsed": true,
        "tags": [],
        "id": "17b08135-acc3-4a7f-8d9e-11d9d2e15507"
      },
      "source": [
        "#### GMMs per pixel\n",
        "\n",
        "Create Set of GMMs for every pixel and fit them considering every training frame"
      ]
    },
    {
      "cell_type": "code",
      "execution_count": 19,
      "id": "630bb208-e186-4892-aea3-41082bd52789",
      "metadata": {
        "execution": {
          "iopub.execute_input": "2023-03-08T07:55:43.637039Z",
          "iopub.status.busy": "2023-03-08T07:55:43.635874Z",
          "iopub.status.idle": "2023-03-08T07:55:43.646623Z",
          "shell.execute_reply": "2023-03-08T07:55:43.644632Z",
          "shell.execute_reply.started": "2023-03-08T07:55:43.636977Z"
        },
        "tags": [],
        "id": "630bb208-e186-4892-aea3-41082bd52789"
      },
      "outputs": [],
      "source": [
        "# Create GMMs per pixel\n",
        "n, height, width, channels = train_frames.shape\n",
        "gmm_models = np.empty((height, width), dtype=object)\n",
        "\n",
        "for i in range(height):\n",
        "    for j in range(width):\n",
        "        pixel_data = train_frames[:, i, j, :]\n",
        "        pixel_data = pixel_data.reshape(n, channels)  # Reshape the data\n",
        "        gmm = GMM(n_components=2,max_iter=2)  # Two components for simplicity\n",
        "        gmm.fit(pixel_data)\n",
        "        gmm_models[i, j] = gmm\n",
        "\n",
        "# Predict background using the fitted GMMs\n",
        "background_image = np.zeros((height, width, channels))\n",
        "\n",
        "for i in range(height):\n",
        "    for j in range(width):\n",
        "        gmm = gmm_models[i, j]\n",
        "        background_image[i, j] = gmm.means[np.argmax(gmm.mixing_coeff)]\n"
      ]
    },
    {
      "cell_type": "markdown",
      "id": "b046f7c9-1950-4704-a62a-f0f27079f95d",
      "metadata": {
        "jp-MarkdownHeadingCollapsed": true,
        "tags": [],
        "id": "b046f7c9-1950-4704-a62a-f0f27079f95d"
      },
      "source": [
        "#### Extract Background Image from the trained model"
      ]
    },
    {
      "cell_type": "code",
      "execution_count": 20,
      "id": "511078b9-35a9-4712-9e54-a7248187c7e6",
      "metadata": {
        "execution": {
          "iopub.execute_input": "2023-03-08T07:55:43.637039Z",
          "iopub.status.busy": "2023-03-08T07:55:43.635874Z",
          "iopub.status.idle": "2023-03-08T07:55:43.646623Z",
          "shell.execute_reply": "2023-03-08T07:55:43.644632Z",
          "shell.execute_reply.started": "2023-03-08T07:55:43.636977Z"
        },
        "tags": [],
        "colab": {
          "base_uri": "https://localhost:8080/",
          "height": 428
        },
        "id": "511078b9-35a9-4712-9e54-a7248187c7e6",
        "outputId": "5397837b-a0b0-4472-baf8-4bba2a71695c"
      },
      "outputs": [
        {
          "output_type": "display_data",
          "data": {
            "text/plain": [
              "<Figure size 640x480 with 1 Axes>"
            ],
            "image/png": "[encoded data removed]"
          },
          "metadata": {}
        }
      ],
      "source": [
        "# Displaying the background image\n",
        "plt.imshow(background_image)\n",
        "plt.title(\"Background Image\")\n",
        "plt.axis('off')\n",
        "plt.show()"
      ]
    },
    {
      "cell_type": "markdown",
      "id": "898f029f-c0d6-4c33-b096-dedf4b389295",
      "metadata": {
        "jp-MarkdownHeadingCollapsed": true,
        "tags": [],
        "id": "898f029f-c0d6-4c33-b096-dedf4b389295"
      },
      "source": [
        "### Outputs\n",
        "\n",
        "You can use the helper functions given below to display and save frames as videos, feel free to change them accordingly."
      ]
    },
    {
      "cell_type": "code",
      "execution_count": 45,
      "id": "7013953b-371b-4111-ba54-cd630b64bec6",
      "metadata": {
        "execution": {
          "iopub.execute_input": "2023-03-08T04:14:25.992340Z",
          "iopub.status.busy": "2023-03-08T04:14:25.991943Z",
          "iopub.status.idle": "2023-03-08T04:14:26.000713Z",
          "shell.execute_reply": "2023-03-08T04:14:25.999863Z",
          "shell.execute_reply.started": "2023-03-08T04:14:25.992307Z"
        },
        "tags": [],
        "id": "7013953b-371b-4111-ba54-cd630b64bec6"
      },
      "outputs": [],
      "source": [
        "from google.colab.patches import cv2_imshow\n",
        "# helper functions\n",
        "\n",
        "def display_frames(frames, fps=10.0):\n",
        "    \"\"\"\n",
        "    Display the frames as a video.\n",
        "    \"\"\"\n",
        "    eps = 0.0001\n",
        "\n",
        "    wait_time = int(1000 // fps)\n",
        "\n",
        "    for frame in frames:\n",
        "        frame = frame.astype(np.float64)\n",
        "        frame = (frame - frame.min()) * 255 / (frame.max() - frame.min() + eps)\n",
        "        frame = frame.astype(np.uint8)\n",
        "\n",
        "        frame = cv2.cvtColor(frame, cv2.COLOR_RGB2BGR)\n",
        "\n",
        "        #cv2.imshow(\"video\", frame)\n",
        "        cv2_imshow(frame)\n",
        "        k = cv2.waitKey(wait_time)\n",
        "\n",
        "        if k == ord('q'):\n",
        "            print(\"Quitting...\")\n",
        "            break\n",
        "\n",
        "    cv2.destroyAllWindows()\n",
        "\n",
        "\n",
        "# def save_frames(frames, fps=10.0, output_path='./results', file_name='temp'):\n",
        "#     \"\"\"\n",
        "#     Save the frames as a video.\n",
        "#     \"\"\"\n",
        "#     eps = 0.0001\n",
        "\n",
        "#     frame_rate = float(fps)\n",
        "#     frame_size = (int(frames[0].shape[1]), int(frames[0].shape[0]))\n",
        "#     wait_time = int(1000 // fps)\n",
        "\n",
        "#     fourcc = cv2.VideoWriter_fourcc(*'mp4v')\n",
        "\n",
        "#     save_path = os.path.join(output_path, f\"{file_name.rsplit('.', 1)[0]}.mp4\")\n",
        "\n",
        "#     vid_wrt = cv2.VideoWriter(save_path, fourcc, frame_rate, frame_size)\n",
        "\n",
        "#     for frame in frames:\n",
        "#         frame = frame.astype(np.float64)\n",
        "#         frame = (frame - frame.min()) * 255 / (frame.max() - frame.min() + eps)\n",
        "#         frame = frame.astype(np.uint8)\n",
        "\n",
        "#         frame = cv2.cvtColor(frame, cv2.COLOR_RGB2BGR)\n",
        "\n",
        "#         #cv2.imshow('frame',frame)\n",
        "#         cv2_imshow(frame)\n",
        "#         if cv2.waitKey(wait_time) & 0xFF == ord('q'):\n",
        "#             break\n",
        "\n",
        "#         vid_wrt.write(frame)\n",
        "\n",
        "\n",
        "#     vid_wrt.release()\n",
        "#     cv2.destroyAllWindows()\n",
        "\n",
        "def save_frames(frames, fps=10.0, output_path='./results', file_name='temp.gif'):\n",
        "\n",
        "    # Save the frames as a GIF.\n",
        "\n",
        "    eps = 0.0001\n",
        "\n",
        "    frame_rate = float(fps)\n",
        "    wait_time = int(1000 // fps)\n",
        "\n",
        "    save_path = os.path.join(output_path, f\"{file_name.rsplit('.', 1)[0]}.gif\")\n",
        "\n",
        "    with imageio.get_writer(save_path, mode='I', duration=1/frame_rate) as writer:\n",
        "        for frame in frames:\n",
        "            frame = frame.astype(np.float64)\n",
        "            frame = (frame - frame.min()) * 255 / (frame.max() - frame.min() + eps)\n",
        "            frame = frame.astype(np.uint8)\n",
        "\n",
        "            frame = cv2.cvtColor(frame, cv2.COLOR_RGB2BGR)\n",
        "            cv2_imshow(frame)\n",
        "\n",
        "            writer.append_data(frame)\n"
      ]
    },
    {
      "cell_type": "markdown",
      "id": "68505dec-141f-463d-be72-020fca8e98da",
      "metadata": {
        "jp-MarkdownHeadingCollapsed": true,
        "tags": [],
        "id": "68505dec-141f-463d-be72-020fca8e98da"
      },
      "source": [
        "#### Frame Averaging"
      ]
    },
    {
      "cell_type": "code",
      "execution_count": 46,
      "id": "797fa50a-8d81-4afa-affd-68bb9a10cb6d",
      "metadata": {
        "execution": {
          "iopub.execute_input": "2023-03-08T07:55:43.637039Z",
          "iopub.status.busy": "2023-03-08T07:55:43.635874Z",
          "iopub.status.idle": "2023-03-08T07:55:43.646623Z",
          "shell.execute_reply": "2023-03-08T07:55:43.644632Z",
          "shell.execute_reply.started": "2023-03-08T07:55:43.636977Z"
        },
        "tags": [],
        "id": "797fa50a-8d81-4afa-affd-68bb9a10cb6d",
        "colab": {
          "base_uri": "https://localhost:8080/",
          "height": 1000
        },
        "outputId": "f4091a97-ce39-431d-b085-3b8e453c279d"
      },
      "outputs": [
        {
          "output_type": "display_data",
          "data": {
            "text/plain": [
              "<PIL.Image.Image image mode=RGB size=160x120>"
            ],
            "image/png": "[encoded data removed]"
          },
          "metadata": {}
        },
        {
          "output_type": "display_data",
          "data": {
            "text/plain": [
              "<PIL.Image.Image image mode=RGB size=160x120>"
            ],
            "image/png": "[encoded data removed]"
          },
          "metadata": {}
        },
        {
          "output_type": "display_data",
          "data": {
            "text/plain": [
              "<PIL.Image.Image image mode=RGB size=160x120>"
            ],
            "image/png": "[encoded data removed]"
          },
          "metadata": {}
        },
        {
          "output_type": "display_data",
          "data": {
            "text/plain": [
              "<PIL.Image.Image image mode=RGB size=160x120>"
            ],
            "image/png": "[encoded data removed]"
          },
          "metadata": {}
        },
        {
          "output_type": "display_data",
          "data": {
            "text/plain": [
              "<PIL.Image.Image image mode=RGB size=160x120>"
            ],
            "image/png": "[encoded data removed]"
          },
          "metadata": {}
        },
        {
          "output_type": "display_data",
          "data": {
            "text/plain": [
              "<PIL.Image.Image image mode=RGB size=160x120>"
            ],
            "image/png": "[encoded data removed]"
          },
          "metadata": {}
        },
        {
          "output_type": "display_data",
          "data": {
            "text/plain": [
              "<PIL.Image.Image image mode=RGB size=160x120>"
            ],
            "image/png": "[encoded data removed]"
          },
          "metadata": {}
        },
        {
          "output_type": "display_data",
          "data": {
            "text/plain": [
              "<PIL.Image.Image image mode=RGB size=160x120>"
            ],
            "image/png": "[encoded data removed]"
          },
          "metadata": {}
        },
        {
          "output_type": "display_data",
          "data": {
            "text/plain": [
              "<PIL.Image.Image image mode=RGB size=160x120>"
            ],
            "image/png": "[encoded data removed]"
          },
          "metadata": {}
        },
        {
          "output_type": "display_data",
          "data": {
            "text/plain": [
              "<PIL.Image.Image image mode=RGB size=160x120>"
            ],
            "image/png": "[encoded data removed]"
          },
          "metadata": {}
        },
        {
          "output_type": "display_data",
          "data": {
            "text/plain": [
              "<PIL.Image.Image image mode=RGB size=160x120>"
            ],
            "image/png": "[encoded data removed]"
          },
          "metadata": {}
        },
        {
          "output_type": "display_data",
          "data": {
            "text/plain": [
              "<PIL.Image.Image image mode=RGB size=160x120>"
            ],
            "image/png": "[encoded data removed]"
          },
          "metadata": {}
        },
        {
          "output_type": "display_data",
          "data": {
            "text/plain": [
              "<PIL.Image.Image image mode=RGB size=160x120>"
            ],
            "image/png": "[encoded data removed]"
          },
          "metadata": {}
        },
        {
          "output_type": "display_data",
          "data": {
            "text/plain": [
              "<PIL.Image.Image image mode=RGB size=160x120>"
            ],
            "image/png": "[encoded data removed]"
          },
          "metadata": {}
        },
        {
          "output_type": "display_data",
          "data": {
            "text/plain": [
              "<PIL.Image.Image image mode=RGB size=160x120>"
            ],
            "image/png": "[encoded data removed]"
          },
          "metadata": {}
        },
        {
          "output_type": "display_data",
          "data": {
            "text/plain": [
              "<PIL.Image.Image image mode=RGB size=160x120>"
            ],
            "image/png": "[encoded data removed]"
          },
          "metadata": {}
        },
        {
          "output_type": "display_data",
          "data": {
            "text/plain": [
              "<PIL.Image.Image image mode=RGB size=160x120>"
            ],
            "image/png": "[encoded data removed]"
          },
          "metadata": {}
        },
        {
          "output_type": "display_data",
          "data": {
            "text/plain": [
              "<PIL.Image.Image image mode=RGB size=160x120>"
            ],
            "image/png": "[encoded data removed]"
          },
          "metadata": {}
        },
        {
          "output_type": "display_data",
          "data": {
            "text/plain": [
              "<PIL.Image.Image image mode=RGB size=160x120>"
            ],
            "image/png": "[encoded data removed]"
          },
          "metadata": {}
        },
        {
          "output_type": "display_data",
          "data": {
            "text/plain": [
              "<PIL.Image.Image image mode=RGB size=160x120>"
            ],
            "image/png": "[encoded data removed]"
          },
          "metadata": {}
        },
        {
          "output_type": "display_data",
          "data": {
            "text/plain": [
              "<PIL.Image.Image image mode=RGB size=160x120>"
            ],
            "image/png": "[encoded data removed]"
          },
          "metadata": {}
        },
        {
          "output_type": "display_data",
          "data": {
            "text/plain": [
              "<PIL.Image.Image image mode=RGB size=160x120>"
            ],
            "image/png": "[encoded data removed]"
          },
          "metadata": {}
        },
        {
          "output_type": "display_data",
          "data": {
            "text/plain": [
              "<PIL.Image.Image image mode=RGB size=160x120>"
            ],
            "image/png": "[encoded data removed]"
          },
          "metadata": {}
        },
        {
          "output_type": "display_data",
          "data": {
            "text/plain": [
              "<PIL.Image.Image image mode=RGB size=160x120>"
            ],
            "image/png": "[encoded data removed]"
          },
          "metadata": {}
        },
        {
          "output_type": "display_data",
          "data": {
            "text/plain": [
              "<PIL.Image.Image image mode=RGB size=160x120>"
            ],
            "image/png": "[encoded data removed]"
          },
          "metadata": {}
        },
        {
          "output_type": "display_data",
          "data": {
            "text/plain": [
              "<PIL.Image.Image image mode=RGB size=160x120>"
            ],
            "image/png": "[encoded data removed]"
          },
          "metadata": {}
        },
        {
          "output_type": "display_data",
          "data": {
            "text/plain": [
              "<PIL.Image.Image image mode=RGB size=160x120>"
            ],
            "image/png": "[encoded data removed]"
          },
          "metadata": {}
        },
        {
          "output_type": "display_data",
          "data": {
            "text/plain": [
              "<PIL.Image.Image image mode=RGB size=160x120>"
            ],
            "image/png": "[encoded data removed]"
          },
          "metadata": {}
        },
        {
          "output_type": "display_data",
          "data": {
            "text/plain": [
              "<PIL.Image.Image image mode=RGB size=160x120>"
            ],
            "image/png": "[encoded data removed]"
          },
          "metadata": {}
        },
        {
          "output_type": "display_data",
          "data": {
            "text/plain": [
              "<PIL.Image.Image image mode=RGB size=160x120>"
            ],
            "image/png": "[encoded data removed]"
          },
          "metadata": {}
        },
        {
          "output_type": "display_data",
          "data": {
            "text/plain": [
              "<PIL.Image.Image image mode=RGB size=160x120>"
            ],
            "image/png": "[encoded data removed]"
          },
          "metadata": {}
        },
        {
          "output_type": "display_data",
          "data": {
            "text/plain": [
              "<PIL.Image.Image image mode=RGB size=160x120>"
            ],
            "image/png": "[encoded data removed]"
          },
          "metadata": {}
        },
        {
          "output_type": "display_data",
          "data": {
            "text/plain": [
              "<PIL.Image.Image image mode=RGB size=160x120>"
            ],
            "image/png": "[encoded data removed]"
          },
          "metadata": {}
        },
        {
          "output_type": "display_data",
          "data": {
            "text/plain": [
              "<PIL.Image.Image image mode=RGB size=160x120>"
            ],
            "image/png": "[encoded data removed]"
          },
          "metadata": {}
        },
        {
          "output_type": "display_data",
          "data": {
            "text/plain": [
              "<PIL.Image.Image image mode=RGB size=160x120>"
            ],
            "image/png": "[encoded data removed]"
          },
          "metadata": {}
        },
        {
          "output_type": "display_data",
          "data": {
            "text/plain": [
              "<PIL.Image.Image image mode=RGB size=160x120>"
            ],
            "image/png": "[encoded data removed]"
          },
          "metadata": {}
        },
        {
          "output_type": "display_data",
          "data": {
            "text/plain": [
              "<PIL.Image.Image image mode=RGB size=160x120>"
            ],
            "image/png": "[encoded data removed]"
          },
          "metadata": {}
        },
        {
          "output_type": "display_data",
          "data": {
            "text/plain": [
              "<PIL.Image.Image image mode=RGB size=160x120>"
            ],
            "image/png": "[encoded data removed]"
          },
          "metadata": {}
        },
        {
          "output_type": "display_data",
          "data": {
            "text/plain": [
              "<PIL.Image.Image image mode=RGB size=160x120>"
            ],
            "image/png": "[encoded data removed]"
          },
          "metadata": {}
        },
        {
          "output_type": "display_data",
          "data": {
            "text/plain": [
              "<PIL.Image.Image image mode=RGB size=160x120>"
            ],
            "image/png": "[encoded data removed]"
          },
          "metadata": {}
        },
        {
          "output_type": "display_data",
          "data": {
            "text/plain": [
              "<PIL.Image.Image image mode=RGB size=160x120>"
            ],
            "image/png": "[encoded data removed]"
          },
          "metadata": {}
        },
        {
          "output_type": "display_data",
          "data": {
            "text/plain": [
              "<PIL.Image.Image image mode=RGB size=160x120>"
            ],
            "image/png": "[encoded data removed]"
          },
          "metadata": {}
        },
        {
          "output_type": "display_data",
          "data": {
            "text/plain": [
              "<PIL.Image.Image image mode=RGB size=160x120>"
            ],
            "image/png": "[encoded data removed]"
          },
          "metadata": {}
        },
        {
          "output_type": "display_data",
          "data": {
            "text/plain": [
              "<PIL.Image.Image image mode=RGB size=160x120>"
            ],
            "image/png": "[encoded data removed]"
          },
          "metadata": {}
        },
        {
          "output_type": "display_data",
          "data": {
            "text/plain": [
              "<PIL.Image.Image image mode=RGB size=160x120>"
            ],
            "image/png": "[encoded data removed]"
          },
          "metadata": {}
        },
        {
          "output_type": "display_data",
          "data": {
            "text/plain": [
              "<PIL.Image.Image image mode=RGB size=160x120>"
            ],
            "image/png": "[encoded data removed]"
          },
          "metadata": {}
        },
        {
          "output_type": "display_data",
          "data": {
            "text/plain": [
              "<PIL.Image.Image image mode=RGB size=160x120>"
            ],
            "image/png": "[encoded data removed]"
          },
          "metadata": {}
        },
        {
          "output_type": "display_data",
          "data": {
            "text/plain": [
              "<PIL.Image.Image image mode=RGB size=160x120>"
            ],
            "image/png": "[encoded data removed]"
          },
          "metadata": {}
        },
        {
          "output_type": "display_data",
          "data": {
            "text/plain": [
              "<PIL.Image.Image image mode=RGB size=160x120>"
            ],
            "image/png": "[encoded data removed]"
          },
          "metadata": {}
        },
        {
          "output_type": "display_data",
          "data": {
            "text/plain": [
              "<PIL.Image.Image image mode=RGB size=160x120>"
            ],
            "image/png": "[encoded data removed]"
          },
          "metadata": {}
        },
        {
          "output_type": "display_data",
          "data": {
            "text/plain": [
              "<PIL.Image.Image image mode=RGB size=160x120>"
            ],
            "image/png": "[encoded data removed]"
          },
          "metadata": {}
        },
        {
          "output_type": "display_data",
          "data": {
            "text/plain": [
              "<PIL.Image.Image image mode=RGB size=160x120>"
            ],
            "image/png": "[encoded data removed]"
          },
          "metadata": {}
        },
        {
          "output_type": "display_data",
          "data": {
            "text/plain": [
              "<PIL.Image.Image image mode=RGB size=160x120>"
            ],
            "image/png": "[encoded data removed]"
          },
          "metadata": {}
        },
        {
          "output_type": "display_data",
          "data": {
            "text/plain": [
              "<PIL.Image.Image image mode=RGB size=160x120>"
            ],
            "image/png": "[encoded data removed]"
          },
          "metadata": {}
        },
        {
          "output_type": "display_data",
          "data": {
            "text/plain": [
              "<PIL.Image.Image image mode=RGB size=160x120>"
            ],
            "image/png": "[encoded data removed]"
          },
          "metadata": {}
        },
        {
          "output_type": "display_data",
          "data": {
            "text/plain": [
              "<PIL.Image.Image image mode=RGB size=160x120>"
            ],
            "image/png": "[encoded data removed]"
          },
          "metadata": {}
        },
        {
          "output_type": "display_data",
          "data": {
            "text/plain": [
              "<PIL.Image.Image image mode=RGB size=160x120>"
            ],
            "image/png": "[encoded data removed]"
          },
          "metadata": {}
        },
        {
          "output_type": "display_data",
          "data": {
            "text/plain": [
              "<PIL.Image.Image image mode=RGB size=160x120>"
            ],
            "image/png": "[encoded data removed]"
          },
          "metadata": {}
        },
        {
          "output_type": "display_data",
          "data": {
            "text/plain": [
              "<PIL.Image.Image image mode=RGB size=160x120>"
            ],
            "image/png": "[encoded data removed]"
          },
          "metadata": {}
        },
        {
          "output_type": "display_data",
          "data": {
            "text/plain": [
              "<PIL.Image.Image image mode=RGB size=160x120>"
            ],
            "image/png": "[encoded data removed]"
          },
          "metadata": {}
        },
        {
          "output_type": "display_data",
          "data": {
            "text/plain": [
              "<PIL.Image.Image image mode=RGB size=160x120>"
            ],
            "image/png": "[encoded data removed]"
          },
          "metadata": {}
        },
        {
          "output_type": "display_data",
          "data": {
            "text/plain": [
              "<PIL.Image.Image image mode=RGB size=160x120>"
            ],
            "image/png": "[encoded data removed]"
          },
          "metadata": {}
        },
        {
          "output_type": "display_data",
          "data": {
            "text/plain": [
              "<PIL.Image.Image image mode=RGB size=160x120>"
            ],
            "image/png": "[encoded data removed]"
          },
          "metadata": {}
        },
        {
          "output_type": "display_data",
          "data": {
            "text/plain": [
              "<PIL.Image.Image image mode=RGB size=160x120>"
            ],
            "image/png": "[encoded data removed]"
          },
          "metadata": {}
        },
        {
          "output_type": "display_data",
          "data": {
            "text/plain": [
              "<PIL.Image.Image image mode=RGB size=160x120>"
            ],
            "image/png": "[encoded data removed]"
          },
          "metadata": {}
        },
        {
          "output_type": "display_data",
          "data": {
            "text/plain": [
              "<PIL.Image.Image image mode=RGB size=160x120>"
            ],
            "image/png": "[encoded data removed]"
          },
          "metadata": {}
        },
        {
          "output_type": "display_data",
          "data": {
            "text/plain": [
              "<PIL.Image.Image image mode=RGB size=160x120>"
            ],
            "image/png": "[encoded data removed]"
          },
          "metadata": {}
        },
        {
          "output_type": "display_data",
          "data": {
            "text/plain": [
              "<PIL.Image.Image image mode=RGB size=160x120>"
            ],
            "image/png": "[encoded data removed]"
          },
          "metadata": {}
        },
        {
          "output_type": "display_data",
          "data": {
            "text/plain": [
              "<PIL.Image.Image image mode=RGB size=160x120>"
            ],
            "image/png": "[encoded data removed]"
          },
          "metadata": {}
        },
        {
          "output_type": "display_data",
          "data": {
            "text/plain": [
              "<PIL.Image.Image image mode=RGB size=160x120>"
            ],
            "image/png": "[encoded data removed]"
          },
          "metadata": {}
        },
        {
          "output_type": "display_data",
          "data": {
            "text/plain": [
              "<PIL.Image.Image image mode=RGB size=160x120>"
            ],
            "image/png": "[encoded data removed]"
          },
          "metadata": {}
        },
        {
          "output_type": "display_data",
          "data": {
            "text/plain": [
              "<PIL.Image.Image image mode=RGB size=160x120>"
            ],
            "image/png": "[encoded data removed]"
          },
          "metadata": {}
        },
        {
          "output_type": "display_data",
          "data": {
            "text/plain": [
              "<PIL.Image.Image image mode=RGB size=160x120>"
            ],
            "image/png": "[encoded data removed]"
          },
          "metadata": {}
        },
        {
          "output_type": "display_data",
          "data": {
            "text/plain": [
              "<PIL.Image.Image image mode=RGB size=160x120>"
            ],
            "image/png": "[encoded data removed]"
          },
          "metadata": {}
        },
        {
          "output_type": "display_data",
          "data": {
            "text/plain": [
              "<PIL.Image.Image image mode=RGB size=160x120>"
            ],
            "image/png": "[encoded data removed]"
          },
          "metadata": {}
        },
        {
          "output_type": "display_data",
          "data": {
            "text/plain": [
              "<PIL.Image.Image image mode=RGB size=160x120>"
            ],
            "image/png": "[encoded data removed]"
          },
          "metadata": {}
        },
        {
          "output_type": "display_data",
          "data": {
            "text/plain": [
              "<PIL.Image.Image image mode=RGB size=160x120>"
            ],
            "image/png": "[encoded data removed]"
          },
          "metadata": {}
        },
        {
          "output_type": "display_data",
          "data": {
            "text/plain": [
              "<PIL.Image.Image image mode=RGB size=160x120>"
            ],
            "image/png": "[encoded data removed]"
          },
          "metadata": {}
        },
        {
          "output_type": "display_data",
          "data": {
            "text/plain": [
              "<PIL.Image.Image image mode=RGB size=160x120>"
            ],
            "image/png": "[encoded data removed]"
          },
          "metadata": {}
        },
        {
          "output_type": "display_data",
          "data": {
            "text/plain": [
              "<PIL.Image.Image image mode=RGB size=160x120>"
            ],
            "image/png": "[encoded data removed]"
          },
          "metadata": {}
        }
      ],
      "source": [
        "# Calculate the background image using frame averaging\n",
        "background_image_2 = np.mean(train_frames, axis=0)\n",
        "\n",
        "# Convert background image to uint8 for further processing\n",
        "background_image_uint8 = (background_image_2 * 255).astype(np.uint8)\n",
        "\n",
        "# Initialize an empty list to store the output frames\n",
        "output_frames = []\n",
        "\n",
        "# Iterate through each frame in the frames array\n",
        "for frame in frames:\n",
        "    # Calculate the absolute difference between the frame and the background\n",
        "    foregrounds = np.abs(frame * 255 - background_image_uint8)\n",
        "\n",
        "    # Convert the foregrounds to uint8 for thresholding\n",
        "    foregrounds = np.array(foregrounds, dtype='uint8')\n",
        "\n",
        "    # Convert the foregrounds to grayscale\n",
        "    foregrounds_gray = cv2.cvtColor(foregrounds, cv2.COLOR_BGR2GRAY)\n",
        "\n",
        "    # Apply thresholding to extract foreground objects\n",
        "    threshold = 50\n",
        "    _, foregrounds_thresh = cv2.threshold(foregrounds_gray, threshold, 255, cv2.THRESH_BINARY)\n",
        "\n",
        "    # Append the thresholded foregrounds to the output frames list\n",
        "    output_frames.append(foregrounds_thresh)\n",
        "\n",
        "\n",
        "# Displaying the frames\n",
        "display_frames(output_frames)"
      ]
    },
    {
      "cell_type": "markdown",
      "id": "c58c5b0f-9e30-44f6-88dc-8efb91e588a6",
      "metadata": {
        "jp-MarkdownHeadingCollapsed": true,
        "tags": [],
        "id": "c58c5b0f-9e30-44f6-88dc-8efb91e588a6"
      },
      "source": [
        "#### GMMs per pixel"
      ]
    },
    {
      "cell_type": "code",
      "execution_count": 47,
      "id": "0603479f-0bb2-4cab-94c0-9576b99ee0cc",
      "metadata": {
        "execution": {
          "iopub.execute_input": "2023-03-08T07:55:43.637039Z",
          "iopub.status.busy": "2023-03-08T07:55:43.635874Z",
          "iopub.status.idle": "2023-03-08T07:55:43.646623Z",
          "shell.execute_reply": "2023-03-08T07:55:43.644632Z",
          "shell.execute_reply.started": "2023-03-08T07:55:43.636977Z"
        },
        "tags": [],
        "id": "0603479f-0bb2-4cab-94c0-9576b99ee0cc",
        "colab": {
          "base_uri": "https://localhost:8080/",
          "height": 1000
        },
        "outputId": "b913c463-e867-416e-cd2a-8d80a453e8ba"
      },
      "outputs": [
        {
          "output_type": "display_data",
          "data": {
            "text/plain": [
              "<PIL.Image.Image image mode=RGB size=160x120>"
            ],
            "image/png": "[encoded data removed]"
          },
          "metadata": {}
        },
        {
          "output_type": "display_data",
          "data": {
            "text/plain": [
              "<PIL.Image.Image image mode=RGB size=160x120>"
            ],
            "image/png": "[encoded data removed]"
          },
          "metadata": {}
        },
        {
          "output_type": "display_data",
          "data": {
            "text/plain": [
              "<PIL.Image.Image image mode=RGB size=160x120>"
            ],
            "image/png": "[encoded data removed]"
          },
          "metadata": {}
        },
        {
          "output_type": "display_data",
          "data": {
            "text/plain": [
              "<PIL.Image.Image image mode=RGB size=160x120>"
            ],
            "image/png": "[encoded data removed]"
          },
          "metadata": {}
        },
        {
          "output_type": "display_data",
          "data": {
            "text/plain": [
              "<PIL.Image.Image image mode=RGB size=160x120>"
            ],
            "image/png": "[encoded data removed]"
          },
          "metadata": {}
        },
        {
          "output_type": "display_data",
          "data": {
            "text/plain": [
              "<PIL.Image.Image image mode=RGB size=160x120>"
            ],
            "image/png": "[encoded data removed]"
          },
          "metadata": {}
        },
        {
          "output_type": "display_data",
          "data": {
            "text/plain": [
              "<PIL.Image.Image image mode=RGB size=160x120>"
            ],
            "image/png": "[encoded data removed]"
          },
          "metadata": {}
        },
        {
          "output_type": "display_data",
          "data": {
            "text/plain": [
              "<PIL.Image.Image image mode=RGB size=160x120>"
            ],
            "image/png": "[encoded data removed]"
          },
          "metadata": {}
        },
        {
          "output_type": "display_data",
          "data": {
            "text/plain": [
              "<PIL.Image.Image image mode=RGB size=160x120>"
            ],
            "image/png": "[encoded data removed]"
          },
          "metadata": {}
        },
        {
          "output_type": "display_data",
          "data": {
            "text/plain": [
              "<PIL.Image.Image image mode=RGB size=160x120>"
            ],
            "image/png": "[encoded data removed]"
          },
          "metadata": {}
        },
        {
          "output_type": "display_data",
          "data": {
            "text/plain": [
              "<PIL.Image.Image image mode=RGB size=160x120>"
            ],
            "image/png": "[encoded data removed]"
          },
          "metadata": {}
        },
        {
          "output_type": "display_data",
          "data": {
            "text/plain": [
              "<PIL.Image.Image image mode=RGB size=160x120>"
            ],
            "image/png": "[encoded data removed]"
          },
          "metadata": {}
        },
        {
          "output_type": "display_data",
          "data": {
            "text/plain": [
              "<PIL.Image.Image image mode=RGB size=160x120>"
            ],
            "image/png": "[encoded data removed]"
          },
          "metadata": {}
        },
        {
          "output_type": "display_data",
          "data": {
            "text/plain": [
              "<PIL.Image.Image image mode=RGB size=160x120>"
            ],
            "image/png": "[encoded data removed]"
          },
          "metadata": {}
        },
        {
          "output_type": "display_data",
          "data": {
            "text/plain": [
              "<PIL.Image.Image image mode=RGB size=160x120>"
            ],
            "image/png": "[encoded data removed]"
          },
          "metadata": {}
        },
        {
          "output_type": "display_data",
          "data": {
            "text/plain": [
              "<PIL.Image.Image image mode=RGB size=160x120>"
            ],
            "image/png": "[encoded data removed]"
          },
          "metadata": {}
        },
        {
          "output_type": "display_data",
          "data": {
            "text/plain": [
              "<PIL.Image.Image image mode=RGB size=160x120>"
            ],
            "image/png": "[encoded data removed]"
          },
          "metadata": {}
        },
        {
          "output_type": "display_data",
          "data": {
            "text/plain": [
              "<PIL.Image.Image image mode=RGB size=160x120>"
            ],
            "image/png": "[encoded data removed]"
          },
          "metadata": {}
        },
        {
          "output_type": "display_data",
          "data": {
            "text/plain": [
              "<PIL.Image.Image image mode=RGB size=160x120>"
            ],
            "image/png": "[encoded data removed]"
          },
          "metadata": {}
        },
        {
          "output_type": "display_data",
          "data": {
            "text/plain": [
              "<PIL.Image.Image image mode=RGB size=160x120>"
            ],
            "image/png": "[encoded data removed]"
          },
          "metadata": {}
        },
        {
          "output_type": "display_data",
          "data": {
            "text/plain": [
              "<PIL.Image.Image image mode=RGB size=160x120>"
            ],
            "image/png": "[encoded data removed]"
          },
          "metadata": {}
        },
        {
          "output_type": "display_data",
          "data": {
            "text/plain": [
              "<PIL.Image.Image image mode=RGB size=160x120>"
            ],
            "image/png": "[encoded data removed]"
          },
          "metadata": {}
        },
        {
          "output_type": "display_data",
          "data": {
            "text/plain": [
              "<PIL.Image.Image image mode=RGB size=160x120>"
            ],
            "image/png": "[encoded data removed]"
          },
          "metadata": {}
        },
        {
          "output_type": "display_data",
          "data": {
            "text/plain": [
              "<PIL.Image.Image image mode=RGB size=160x120>"
            ],
            "image/png": "[encoded data removed]"
          },
          "metadata": {}
        },
        {
          "output_type": "display_data",
          "data": {
            "text/plain": [
              "<PIL.Image.Image image mode=RGB size=160x120>"
            ],
            "image/png": "[encoded data removed]"
          },
          "metadata": {}
        },
        {
          "output_type": "display_data",
          "data": {
            "text/plain": [
              "<PIL.Image.Image image mode=RGB size=160x120>"
            ],
            "image/png": "[encoded data removed]"
          },
          "metadata": {}
        },
        {
          "output_type": "display_data",
          "data": {
            "text/plain": [
              "<PIL.Image.Image image mode=RGB size=160x120>"
            ],
            "image/png": "[encoded data removed]"
          },
          "metadata": {}
        },
        {
          "output_type": "display_data",
          "data": {
            "text/plain": [
              "<PIL.Image.Image image mode=RGB size=160x120>"
            ],
            "image/png": "[encoded data removed]"
          },
          "metadata": {}
        },
        {
          "output_type": "display_data",
          "data": {
            "text/plain": [
              "<PIL.Image.Image image mode=RGB size=160x120>"
            ],
            "image/png": "[encoded data removed]"
          },
          "metadata": {}
        },
        {
          "output_type": "display_data",
          "data": {
            "text/plain": [
              "<PIL.Image.Image image mode=RGB size=160x120>"
            ],
            "image/png": "[encoded data removed]"
          },
          "metadata": {}
        },
        {
          "output_type": "display_data",
          "data": {
            "text/plain": [
              "<PIL.Image.Image image mode=RGB size=160x120>"
            ],
            "image/png": "[encoded data removed]"
          },
          "metadata": {}
        },
        {
          "output_type": "display_data",
          "data": {
            "text/plain": [
              "<PIL.Image.Image image mode=RGB size=160x120>"
            ],
            "image/png": "[encoded data removed]"
          },
          "metadata": {}
        },
        {
          "output_type": "display_data",
          "data": {
            "text/plain": [
              "<PIL.Image.Image image mode=RGB size=160x120>"
            ],
            "image/png": "[encoded data removed]"
          },
          "metadata": {}
        },
        {
          "output_type": "display_data",
          "data": {
            "text/plain": [
              "<PIL.Image.Image image mode=RGB size=160x120>"
            ],
            "image/png": "[encoded data removed]"
          },
          "metadata": {}
        },
        {
          "output_type": "display_data",
          "data": {
            "text/plain": [
              "<PIL.Image.Image image mode=RGB size=160x120>"
            ],
            "image/png": "[encoded data removed]"
          },
          "metadata": {}
        },
        {
          "output_type": "display_data",
          "data": {
            "text/plain": [
              "<PIL.Image.Image image mode=RGB size=160x120>"
            ],
            "image/png": "[encoded data removed]"
          },
          "metadata": {}
        },
        {
          "output_type": "display_data",
          "data": {
            "text/plain": [
              "<PIL.Image.Image image mode=RGB size=160x120>"
            ],
            "image/png": "[encoded data removed]"
          },
          "metadata": {}
        },
        {
          "output_type": "display_data",
          "data": {
            "text/plain": [
              "<PIL.Image.Image image mode=RGB size=160x120>"
            ],
            "image/png": "[encoded data removed]"
          },
          "metadata": {}
        },
        {
          "output_type": "display_data",
          "data": {
            "text/plain": [
              "<PIL.Image.Image image mode=RGB size=160x120>"
            ],
            "image/png": "[encoded data removed]"
          },
          "metadata": {}
        },
        {
          "output_type": "display_data",
          "data": {
            "text/plain": [
              "<PIL.Image.Image image mode=RGB size=160x120>"
            ],
            "image/png": "[encoded data removed]"
          },
          "metadata": {}
        },
        {
          "output_type": "display_data",
          "data": {
            "text/plain": [
              "<PIL.Image.Image image mode=RGB size=160x120>"
            ],
            "image/png": "[encoded data removed]"
          },
          "metadata": {}
        },
        {
          "output_type": "display_data",
          "data": {
            "text/plain": [
              "<PIL.Image.Image image mode=RGB size=160x120>"
            ],
            "image/png": "[encoded data removed]"
          },
          "metadata": {}
        },
        {
          "output_type": "display_data",
          "data": {
            "text/plain": [
              "<PIL.Image.Image image mode=RGB size=160x120>"
            ],
            "image/png": "[encoded data removed]"
          },
          "metadata": {}
        },
        {
          "output_type": "display_data",
          "data": {
            "text/plain": [
              "<PIL.Image.Image image mode=RGB size=160x120>"
            ],
            "image/png": "[encoded data removed]"
          },
          "metadata": {}
        },
        {
          "output_type": "display_data",
          "data": {
            "text/plain": [
              "<PIL.Image.Image image mode=RGB size=160x120>"
            ],
            "image/png": "[encoded data removed]"
          },
          "metadata": {}
        },
        {
          "output_type": "display_data",
          "data": {
            "text/plain": [
              "<PIL.Image.Image image mode=RGB size=160x120>"
            ],
            "image/png": "[encoded data removed]"
          },
          "metadata": {}
        },
        {
          "output_type": "display_data",
          "data": {
            "text/plain": [
              "<PIL.Image.Image image mode=RGB size=160x120>"
            ],
            "image/png": "[encoded data removed]"
          },
          "metadata": {}
        },
        {
          "output_type": "display_data",
          "data": {
            "text/plain": [
              "<PIL.Image.Image image mode=RGB size=160x120>"
            ],
            "image/png": "[encoded data removed]"
          },
          "metadata": {}
        },
        {
          "output_type": "display_data",
          "data": {
            "text/plain": [
              "<PIL.Image.Image image mode=RGB size=160x120>"
            ],
            "image/png": "[encoded data removed]"
          },
          "metadata": {}
        },
        {
          "output_type": "display_data",
          "data": {
            "text/plain": [
              "<PIL.Image.Image image mode=RGB size=160x120>"
            ],
            "image/png": "[encoded data removed]"
          },
          "metadata": {}
        },
        {
          "output_type": "display_data",
          "data": {
            "text/plain": [
              "<PIL.Image.Image image mode=RGB size=160x120>"
            ],
            "image/png": "[encoded data removed]"
          },
          "metadata": {}
        },
        {
          "output_type": "display_data",
          "data": {
            "text/plain": [
              "<PIL.Image.Image image mode=RGB size=160x120>"
            ],
            "image/png": "[encoded data removed]"
          },
          "metadata": {}
        },
        {
          "output_type": "display_data",
          "data": {
            "text/plain": [
              "<PIL.Image.Image image mode=RGB size=160x120>"
            ],
            "image/png": "[encoded data removed]"
          },
          "metadata": {}
        },
        {
          "output_type": "display_data",
          "data": {
            "text/plain": [
              "<PIL.Image.Image image mode=RGB size=160x120>"
            ],
            "image/png": "[encoded data removed]"
          },
          "metadata": {}
        },
        {
          "output_type": "display_data",
          "data": {
            "text/plain": [
              "<PIL.Image.Image image mode=RGB size=160x120>"
            ],
            "image/png": "[encoded data removed]"
          },
          "metadata": {}
        },
        {
          "output_type": "display_data",
          "data": {
            "text/plain": [
              "<PIL.Image.Image image mode=RGB size=160x120>"
            ],
            "image/png": "[encoded data removed]"
          },
          "metadata": {}
        },
        {
          "output_type": "display_data",
          "data": {
            "text/plain": [
              "<PIL.Image.Image image mode=RGB size=160x120>"
            ],
            "image/png": "[encoded data removed]"
          },
          "metadata": {}
        },
        {
          "output_type": "display_data",
          "data": {
            "text/plain": [
              "<PIL.Image.Image image mode=RGB size=160x120>"
            ],
            "image/png": "[encoded data removed]"
          },
          "metadata": {}
        },
        {
          "output_type": "display_data",
          "data": {
            "text/plain": [
              "<PIL.Image.Image image mode=RGB size=160x120>"
            ],
            "image/png": "[encoded data removed]"
          },
          "metadata": {}
        },
        {
          "output_type": "display_data",
          "data": {
            "text/plain": [
              "<PIL.Image.Image image mode=RGB size=160x120>"
            ],
            "image/png": "[encoded data removed]"
          },
          "metadata": {}
        },
        {
          "output_type": "display_data",
          "data": {
            "text/plain": [
              "<PIL.Image.Image image mode=RGB size=160x120>"
            ],
            "image/png": "[encoded data removed]"
          },
          "metadata": {}
        },
        {
          "output_type": "display_data",
          "data": {
            "text/plain": [
              "<PIL.Image.Image image mode=RGB size=160x120>"
            ],
            "image/png": "[encoded data removed]"
          },
          "metadata": {}
        },
        {
          "output_type": "display_data",
          "data": {
            "text/plain": [
              "<PIL.Image.Image image mode=RGB size=160x120>"
            ],
            "image/png": "[encoded data removed]"
          },
          "metadata": {}
        },
        {
          "output_type": "display_data",
          "data": {
            "text/plain": [
              "<PIL.Image.Image image mode=RGB size=160x120>"
            ],
            "image/png": "[encoded data removed]"
          },
          "metadata": {}
        },
        {
          "output_type": "display_data",
          "data": {
            "text/plain": [
              "<PIL.Image.Image image mode=RGB size=160x120>"
            ],
            "image/png": "[encoded data removed]"
          },
          "metadata": {}
        },
        {
          "output_type": "display_data",
          "data": {
            "text/plain": [
              "<PIL.Image.Image image mode=RGB size=160x120>"
            ],
            "image/png": "[encoded data removed]"
          },
          "metadata": {}
        },
        {
          "output_type": "display_data",
          "data": {
            "text/plain": [
              "<PIL.Image.Image image mode=RGB size=160x120>"
            ],
            "image/png": "[encoded data removed]"
          },
          "metadata": {}
        },
        {
          "output_type": "display_data",
          "data": {
            "text/plain": [
              "<PIL.Image.Image image mode=RGB size=160x120>"
            ],
            "image/png": "[encoded data removed]"
          },
          "metadata": {}
        },
        {
          "output_type": "display_data",
          "data": {
            "text/plain": [
              "<PIL.Image.Image image mode=RGB size=160x120>"
            ],
            "image/png": "[encoded data removed]"
          },
          "metadata": {}
        },
        {
          "output_type": "display_data",
          "data": {
            "text/plain": [
              "<PIL.Image.Image image mode=RGB size=160x120>"
            ],
            "image/png": "[encoded data removed]"
          },
          "metadata": {}
        },
        {
          "output_type": "display_data",
          "data": {
            "text/plain": [
              "<PIL.Image.Image image mode=RGB size=160x120>"
            ],
            "image/png": "[encoded data removed]"
          },
          "metadata": {}
        },
        {
          "output_type": "display_data",
          "data": {
            "text/plain": [
              "<PIL.Image.Image image mode=RGB size=160x120>"
            ],
            "image/png": "[encoded data removed]"
          },
          "metadata": {}
        },
        {
          "output_type": "display_data",
          "data": {
            "text/plain": [
              "<PIL.Image.Image image mode=RGB size=160x120>"
            ],
            "image/png": "[encoded data removed]"
          },
          "metadata": {}
        },
        {
          "output_type": "display_data",
          "data": {
            "text/plain": [
              "<PIL.Image.Image image mode=RGB size=160x120>"
            ],
            "image/png": "[encoded data removed]"
          },
          "metadata": {}
        },
        {
          "output_type": "display_data",
          "data": {
            "text/plain": [
              "<PIL.Image.Image image mode=RGB size=160x120>"
            ],
            "image/png": "[encoded data removed]"
          },
          "metadata": {}
        },
        {
          "output_type": "display_data",
          "data": {
            "text/plain": [
              "<PIL.Image.Image image mode=RGB size=160x120>"
            ],
            "image/png": "[encoded data removed]"
          },
          "metadata": {}
        },
        {
          "output_type": "display_data",
          "data": {
            "text/plain": [
              "<PIL.Image.Image image mode=RGB size=160x120>"
            ],
            "image/png": "[encoded data removed]"
          },
          "metadata": {}
        },
        {
          "output_type": "display_data",
          "data": {
            "text/plain": [
              "<PIL.Image.Image image mode=RGB size=160x120>"
            ],
            "image/png": "[encoded data removed]"
          },
          "metadata": {}
        },
        {
          "output_type": "display_data",
          "data": {
            "text/plain": [
              "<PIL.Image.Image image mode=RGB size=160x120>"
            ],
            "image/png": "[encoded data removed]"
          },
          "metadata": {}
        },
        {
          "output_type": "display_data",
          "data": {
            "text/plain": [
              "<PIL.Image.Image image mode=RGB size=160x120>"
            ],
            "image/png": "[encoded data removed]"
          },
          "metadata": {}
        }
      ],
      "source": [
        "output_frames_gmm=[]\n",
        "\n",
        "# Iterate through each frame in the frames array\n",
        "for i in range(frames.shape[0]):\n",
        "\n",
        "    # Calculate the absolute difference between the frame and the background\n",
        "    foregrounds = np.abs(frames[i]*255 - background_image*255)\n",
        "\n",
        "    # Convert the foregrounds to uint8 for further processing\n",
        "    foregrounds = np.array(foregrounds,dtype='uint8')\n",
        "\n",
        "    # Convert the foregrounds to grayscale\n",
        "    foregrounds = cv2.cvtColor(foregrounds, cv2.COLOR_BGR2GRAY)\n",
        "\n",
        "    # Apply thresholding to extract foreground objects\n",
        "    threshold = 50\n",
        "    for i in range(foregrounds.shape[0]):\n",
        "        for j in range(foregrounds.shape[1]):\n",
        "            if foregrounds[i][j]<threshold:\n",
        "                foregrounds[i][j]=0\n",
        "            else:\n",
        "                foregrounds[i][j]=255\n",
        "\n",
        "    # Append the thresholded foregrounds to the output_frames_gmm list\n",
        "    output_frames_gmm.append(foregrounds)\n",
        "\n",
        "\n",
        "# Saving frames as video\n",
        "save_frames(output_frames_gmm)"
      ]
    }
  ],
  "metadata": {
    "kernelspec": {
      "display_name": "Python [conda env:smai]",
      "language": "python",
      "name": "conda-env-smai-py"
    },
    "language_info": {
      "codemirror_mode": {
        "name": "ipython",
        "version": 3
      },
      "file_extension": ".py",
      "mimetype": "text/x-python",
      "name": "python",
      "nbconvert_exporter": "python",
      "pygments_lexer": "ipython3",
      "version": "3.10.8"
    },
    "colab": {
      "provenance": []
    }
  },
  "nbformat": 4,
  "nbformat_minor": 5
}
